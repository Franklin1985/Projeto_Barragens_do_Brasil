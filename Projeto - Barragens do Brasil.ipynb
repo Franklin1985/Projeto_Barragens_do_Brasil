{
 "cells": [
  {
   "cell_type": "markdown",
   "metadata": {},
   "source": [
    "# Barragens do Brasil"
   ]
  },
  {
   "cell_type": "markdown",
   "metadata": {},
   "source": [
    ". Dados referente barragens no Brasil"
   ]
  },
  {
   "cell_type": "code",
   "execution_count": 1,
   "metadata": {},
   "outputs": [],
   "source": [
    "import pandas as pd\n",
    "import numpy as np\n",
    "import matplotlib.pyplot as plt\n",
    "import datetime\n",
    "import seaborn as sns\n",
    "%matplotlib inline"
   ]
  },
  {
   "cell_type": "code",
   "execution_count": 20,
   "metadata": {},
   "outputs": [],
   "source": [
    "df = pd.read_csv('database_versao_LatLongDecimal_fonteANM_23_01_2019.csv')"
   ]
  },
  {
   "cell_type": "code",
   "execution_count": 22,
   "metadata": {},
   "outputs": [
    {
     "data": {
      "text/html": [
       "<div>\n",
       "<style scoped>\n",
       "    .dataframe tbody tr th:only-of-type {\n",
       "        vertical-align: middle;\n",
       "    }\n",
       "\n",
       "    .dataframe tbody tr th {\n",
       "        vertical-align: top;\n",
       "    }\n",
       "\n",
       "    .dataframe thead th {\n",
       "        text-align: right;\n",
       "    }\n",
       "</style>\n",
       "<table border=\"1\" class=\"dataframe\">\n",
       "  <thead>\n",
       "    <tr style=\"text-align: right;\">\n",
       "      <th></th>\n",
       "      <th>NOME_BARRAGEM_MINERACAO</th>\n",
       "      <th>NOME_DO_EMPREENDEDOR</th>\n",
       "      <th>CPF_CNPJ</th>\n",
       "      <th>POSICIONAMENTO</th>\n",
       "      <th>UF</th>\n",
       "      <th>MUNICIPIO</th>\n",
       "      <th>MINERIO_PRINCIPAL</th>\n",
       "      <th>ALTURA_ATUAL_metros</th>\n",
       "      <th>VOLUME_ATUAL_m3</th>\n",
       "      <th>CATEGORIA_DE_RISCO</th>\n",
       "      <th>DANO_POTENCIAL_ASSOCIADO</th>\n",
       "      <th>CLASSE</th>\n",
       "      <th>INSERIDA_NA_PNSB</th>\n",
       "      <th>LATITUDE</th>\n",
       "      <th>LONGITUDE</th>\n",
       "    </tr>\n",
       "  </thead>\n",
       "  <tbody>\n",
       "    <tr>\n",
       "      <th>0</th>\n",
       "      <td>0-1</td>\n",
       "      <td>Mineração Taboca S.a.</td>\n",
       "      <td>34.019.992/0001-10</td>\n",
       "      <td>Sul do Equador</td>\n",
       "      <td>AM</td>\n",
       "      <td>PRESIDENTE FIGUEIREDO</td>\n",
       "      <td>Minério de Estanho Primário</td>\n",
       "      <td>22.00</td>\n",
       "      <td>27,700,000.00</td>\n",
       "      <td>Baixa</td>\n",
       "      <td>Média</td>\n",
       "      <td>C</td>\n",
       "      <td>Sim</td>\n",
       "      <td>0.733361</td>\n",
       "      <td>-60.138389</td>\n",
       "    </tr>\n",
       "    <tr>\n",
       "      <th>1</th>\n",
       "      <td>103 (Cruz)</td>\n",
       "      <td>Mineração Taboca S.a.</td>\n",
       "      <td>34.019.992/0001-10</td>\n",
       "      <td>Sul do Equador</td>\n",
       "      <td>AM</td>\n",
       "      <td>PRESIDENTE FIGUEIREDO</td>\n",
       "      <td>Minério de Estanho Primário</td>\n",
       "      <td>10.30</td>\n",
       "      <td>924,000.00</td>\n",
       "      <td>Baixa</td>\n",
       "      <td>Média</td>\n",
       "      <td>C</td>\n",
       "      <td>Sim</td>\n",
       "      <td>0.785722</td>\n",
       "      <td>-60.141917</td>\n",
       "    </tr>\n",
       "    <tr>\n",
       "      <th>2</th>\n",
       "      <td>111 (Índio)</td>\n",
       "      <td>Mineração Taboca S.a.</td>\n",
       "      <td>34.019.992/0001-10</td>\n",
       "      <td>Sul do Equador</td>\n",
       "      <td>AM</td>\n",
       "      <td>PRESIDENTE FIGUEIREDO</td>\n",
       "      <td>Minério de Estanho Primário</td>\n",
       "      <td>5.00</td>\n",
       "      <td>48,873.00</td>\n",
       "      <td>Baixa</td>\n",
       "      <td>Média</td>\n",
       "      <td>C</td>\n",
       "      <td>Sim</td>\n",
       "      <td>0.789667</td>\n",
       "      <td>-60.144278</td>\n",
       "    </tr>\n",
       "    <tr>\n",
       "      <th>3</th>\n",
       "      <td>158 (A-1)</td>\n",
       "      <td>Mineração Taboca S.a.</td>\n",
       "      <td>34.019.992/0001-10</td>\n",
       "      <td>Sul do Equador</td>\n",
       "      <td>AM</td>\n",
       "      <td>PRESIDENTE FIGUEIREDO</td>\n",
       "      <td>Minério de Estanho Primário</td>\n",
       "      <td>30.00</td>\n",
       "      <td>53,380,000.00</td>\n",
       "      <td>Baixa</td>\n",
       "      <td>Alta</td>\n",
       "      <td>B</td>\n",
       "      <td>Sim</td>\n",
       "      <td>0.738028</td>\n",
       "      <td>-60.078917</td>\n",
       "    </tr>\n",
       "    <tr>\n",
       "      <th>4</th>\n",
       "      <td>161 (A-2)</td>\n",
       "      <td>Mineração Taboca S.a.</td>\n",
       "      <td>34.019.992/0001-10</td>\n",
       "      <td>Sul do Equador</td>\n",
       "      <td>AM</td>\n",
       "      <td>PRESIDENTE FIGUEIREDO</td>\n",
       "      <td>Minério de Estanho Primário</td>\n",
       "      <td>22.00</td>\n",
       "      <td>1,018,054.00</td>\n",
       "      <td>Baixa</td>\n",
       "      <td>Média</td>\n",
       "      <td>C</td>\n",
       "      <td>Sim</td>\n",
       "      <td>0.732287</td>\n",
       "      <td>-60.068999</td>\n",
       "    </tr>\n",
       "  </tbody>\n",
       "</table>\n",
       "</div>"
      ],
      "text/plain": [
       "  NOME_BARRAGEM_MINERACAO   NOME_DO_EMPREENDEDOR            CPF_CNPJ  \\\n",
       "0                     0-1  Mineração Taboca S.a.  34.019.992/0001-10   \n",
       "1              103 (Cruz)  Mineração Taboca S.a.  34.019.992/0001-10   \n",
       "2             111 (Índio)  Mineração Taboca S.a.  34.019.992/0001-10   \n",
       "3               158 (A-1)  Mineração Taboca S.a.  34.019.992/0001-10   \n",
       "4               161 (A-2)  Mineração Taboca S.a.  34.019.992/0001-10   \n",
       "\n",
       "   POSICIONAMENTO  UF              MUNICIPIO            MINERIO_PRINCIPAL  \\\n",
       "0  Sul do Equador  AM  PRESIDENTE FIGUEIREDO  Minério de Estanho Primário   \n",
       "1  Sul do Equador  AM  PRESIDENTE FIGUEIREDO  Minério de Estanho Primário   \n",
       "2  Sul do Equador  AM  PRESIDENTE FIGUEIREDO  Minério de Estanho Primário   \n",
       "3  Sul do Equador  AM  PRESIDENTE FIGUEIREDO  Minério de Estanho Primário   \n",
       "4  Sul do Equador  AM  PRESIDENTE FIGUEIREDO  Minério de Estanho Primário   \n",
       "\n",
       "  ALTURA_ATUAL_metros VOLUME_ATUAL_m3 CATEGORIA_DE_RISCO  \\\n",
       "0               22.00   27,700,000.00              Baixa   \n",
       "1               10.30      924,000.00              Baixa   \n",
       "2                5.00       48,873.00              Baixa   \n",
       "3               30.00   53,380,000.00              Baixa   \n",
       "4               22.00    1,018,054.00              Baixa   \n",
       "\n",
       "  DANO_POTENCIAL_ASSOCIADO CLASSE INSERIDA_NA_PNSB  LATITUDE  LONGITUDE  \n",
       "0                    Média      C              Sim  0.733361 -60.138389  \n",
       "1                    Média      C              Sim  0.785722 -60.141917  \n",
       "2                    Média      C              Sim  0.789667 -60.144278  \n",
       "3                     Alta      B              Sim  0.738028 -60.078917  \n",
       "4                    Média      C              Sim  0.732287 -60.068999  "
      ]
     },
     "execution_count": 22,
     "metadata": {},
     "output_type": "execute_result"
    }
   ],
   "source": [
    "df.head()"
   ]
  },
  {
   "cell_type": "code",
   "execution_count": 23,
   "metadata": {},
   "outputs": [
    {
     "data": {
      "text/plain": [
       "NOME_BARRAGEM_MINERACAO      object\n",
       "NOME_DO_EMPREENDEDOR         object\n",
       "CPF_CNPJ                     object\n",
       "POSICIONAMENTO               object\n",
       "UF                           object\n",
       "MUNICIPIO                    object\n",
       "MINERIO_PRINCIPAL            object\n",
       "ALTURA_ATUAL_metros          object\n",
       "VOLUME_ATUAL_m3              object\n",
       "CATEGORIA_DE_RISCO           object\n",
       "DANO_POTENCIAL_ASSOCIADO     object\n",
       "CLASSE                       object\n",
       "INSERIDA_NA_PNSB             object\n",
       "LATITUDE                    float64\n",
       "LONGITUDE                   float64\n",
       "dtype: object"
      ]
     },
     "execution_count": 23,
     "metadata": {},
     "output_type": "execute_result"
    }
   ],
   "source": [
    "# Mostra os tipos de cada coluna do DataFrame \n",
    "df.dtypes"
   ]
  },
  {
   "cell_type": "code",
   "execution_count": 25,
   "metadata": {},
   "outputs": [
    {
     "data": {
      "text/plain": [
       "POCONÉ        31\n",
       "BRUMADINHO    26\n",
       "ITABIRITO     26\n",
       "NOVA LIMA     25\n",
       "ORIXIMINÁ     25\n",
       "OURO PRETO    24\n",
       "ITATIAIUÇU    22\n",
       "JAGUARARI     21\n",
       "CORUMBÁ       19\n",
       "ITABIRA       18\n",
       "Name: MUNICIPIO, dtype: int64"
      ]
     },
     "execution_count": 25,
     "metadata": {},
     "output_type": "execute_result"
    }
   ],
   "source": [
    "# Total de Barragens por Cidade!\n",
    "df['MUNICIPIO'].value_counts(). head(10)"
   ]
  },
  {
   "cell_type": "code",
   "execution_count": 39,
   "metadata": {},
   "outputs": [
    {
     "data": {
      "text/plain": [
       "MG    324\n",
       "PA     98\n",
       "SP     66\n",
       "MT     62\n",
       "BA     46\n",
       "RO     22\n",
       "MS     19\n",
       "AM     15\n",
       "AP     12\n",
       "GO     12\n",
       "Name: UF, dtype: int64"
      ]
     },
     "execution_count": 39,
     "metadata": {},
     "output_type": "execute_result"
    }
   ],
   "source": [
    "# Quantas Barragens tem por estado?\n",
    "df['CATEGORIA_DE_RISCO'].value_counts(). head(10)\n",
    "df['UF'].value_counts(). head(10)"
   ]
  },
  {
   "cell_type": "code",
   "execution_count": 32,
   "metadata": {},
   "outputs": [
    {
     "data": {
      "text/plain": [
       "POCONÉ        31\n",
       "BRUMADINHO    26\n",
       "ITABIRITO     26\n",
       "NOVA LIMA     25\n",
       "ORIXIMINÁ     25\n",
       "OURO PRETO    24\n",
       "ITATIAIUÇU    22\n",
       "JAGUARARI     21\n",
       "CORUMBÁ       19\n",
       "ITABIRA       18\n",
       "Name: MUNICIPIO, dtype: int64"
      ]
     },
     "execution_count": 32,
     "metadata": {},
     "output_type": "execute_result"
    }
   ],
   "source": [
    "# Qual Barragem tem o maior volume em m3?\n",
    "df['VOLUME_ATUAL_m3'].value_counts(). head(10)\n",
    "df['MUNICIPIO'].value_counts(). head(10)"
   ]
  },
  {
   "cell_type": "code",
   "execution_count": 45,
   "metadata": {},
   "outputs": [
    {
     "data": {
      "text/plain": [
       "Baixa    332\n",
       "Média     55\n",
       "Alta       3\n",
       "Name: CATEGORIA_DE_RISCO, dtype: int64"
      ]
     },
     "execution_count": 45,
     "metadata": {},
     "output_type": "execute_result"
    }
   ],
   "source": [
    "# Classificação por categoria de risco\n",
    "df['CATEGORIA_DE_RISCO'].value_counts(). head(10)"
   ]
  },
  {
   "cell_type": "code",
   "execution_count": 62,
   "metadata": {},
   "outputs": [
    {
     "data": {
      "text/plain": [
       "<matplotlib.axes._subplots.AxesSubplot at 0x2565147a7b8>"
      ]
     },
     "execution_count": 62,
     "metadata": {},
     "output_type": "execute_result"
    },
    {
     "data": {
      "image/png": "[encoded data removed]",
      "text/plain": [
       "<Figure size 432x288 with 1 Axes>"
      ]
     },
     "metadata": {
      "needs_background": "light"
     },
     "output_type": "display_data"
    }
   ],
   "source": [
    "# Mostrando os dados em um  gráfico\n",
    "# Gráfico de barras para UF\n",
    "df['UF'].value_counts() .plot.barh()"
   ]
  },
  {
   "cell_type": "code",
   "execution_count": 47,
   "metadata": {},
   "outputs": [
    {
     "data": {
      "text/plain": [
       "<matplotlib.axes._subplots.AxesSubplot at 0x25650f1da20>"
      ]
     },
     "execution_count": 47,
     "metadata": {},
     "output_type": "execute_result"
    },
    {
     "data": {
      "image/png": "[encoded data removed]",
      "text/plain": [
       "<Figure size 432x288 with 1 Axes>"
      ]
     },
     "metadata": {
      "needs_background": "light"
     },
     "output_type": "display_data"
    }
   ],
   "source": [
    "# Mostrando os dados em um  gráfico\n",
    "# Gráfico de barras para CATEGORIA_DE_RISCO\n",
    "df['CATEGORIA_DE_RISCO'].value_counts(). head(10).plot.bar()"
   ]
  },
  {
   "cell_type": "code",
   "execution_count": 61,
   "metadata": {},
   "outputs": [
    {
     "data": {
      "text/plain": [
       "<matplotlib.axes._subplots.AxesSubplot at 0x256514205c0>"
      ]
     },
     "execution_count": 61,
     "metadata": {},
     "output_type": "execute_result"
    },
    {
     "data": {
      "image/png": "[encoded data removed]",
      "text/plain": [
       "<Figure size 432x288 with 1 Axes>"
      ]
     },
     "metadata": {
      "needs_background": "light"
     },
     "output_type": "display_data"
    }
   ],
   "source": [
    "# Mostrando os dados em um  gráfico\n",
    "# Gráfico de barras para barragens de maior VOLUME_ATUAL_m3 por MUNICIPIO\n",
    "df['VOLUME_ATUAL_m3'].value_counts(). head(10).plot.barh()\n",
    "df['MUNICIPIO'].value_counts(). head(10).plot.barh()"
   ]
  },
  {
   "cell_type": "code",
   "execution_count": 54,
   "metadata": {},
   "outputs": [
    {
     "data": {
      "text/plain": [
       "12,000.00     10\n",
       "-              7\n",
       "30,000.00      7\n",
       "150,000.00     7\n",
       "600,000.00     6\n",
       "7,500.00       5\n",
       "100.00         5\n",
       "5,000.00       5\n",
       "80,000.00      5\n",
       "15,000.00      5\n",
       "Name: VOLUME_ATUAL_m3, dtype: int64"
      ]
     },
     "execution_count": 54,
     "metadata": {},
     "output_type": "execute_result"
    }
   ],
   "source": [
    "# Barragens com maior volume!\n",
    "df['VOLUME_ATUAL_m3'].value_counts(). head(10)"
   ]
  },
  {
   "cell_type": "code",
   "execution_count": 60,
   "metadata": {},
   "outputs": [
    {
     "data": {
      "text/plain": [
       "<matplotlib.axes._subplots.AxesSubplot at 0x25651517470>"
      ]
     },
     "execution_count": 60,
     "metadata": {},
     "output_type": "execute_result"
    },
    {
     "data": {
      "image/png": "[encoded data removed]",
      "text/plain": [
       "<Figure size 432x288 with 1 Axes>"
      ]
     },
     "metadata": {
      "needs_background": "light"
     },
     "output_type": "display_data"
    }
   ],
   "source": [
    "df['VOLUME_ATUAL_m3'].value_counts(). head(10).plot.barh()"
   ]
  },
  {
   "cell_type": "code",
   "execution_count": null,
   "metadata": {},
   "outputs": [],
   "source": []
  }
 ],
 "metadata": {
  "kernelspec": {
   "display_name": "Python 3",
   "language": "python",
   "name": "python3"
  },
  "language_info": {
   "codemirror_mode": {
    "name": "ipython",
    "version": 3
   },
   "file_extension": ".py",
   "mimetype": "text/x-python",
   "name": "python",
   "nbconvert_exporter": "python",
   "pygments_lexer": "ipython3",
   "version": "3.7.0"
  }
 },
 "nbformat": 4,
 "nbformat_minor": 2
}
