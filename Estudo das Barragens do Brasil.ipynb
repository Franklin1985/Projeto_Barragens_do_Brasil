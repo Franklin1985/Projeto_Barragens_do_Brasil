{
 "cells": [
  {
   "cell_type": "code",
   "execution_count": 39,
   "metadata": {},
   "outputs": [],
   "source": [
    "# Importanto as Biliotecas do Python\n",
    "import pandas as pd\n",
    "import numpy as np\n",
    "import seaborn as sns \n",
    "import matplotlib.pyplot as plt\n",
    "%matplotlib inline"
   ]
  },
  {
   "cell_type": "code",
   "execution_count": 40,
   "metadata": {},
   "outputs": [],
   "source": [
    "df = pd.read_csv('Arquivos CSVs/database_versao_LatLongDecimal_fonteANM_23_01_2019.csv')"
   ]
  },
  {
   "cell_type": "code",
   "execution_count": 41,
   "metadata": {},
   "outputs": [
    {
     "data": {
      "text/html": [
       "<div>\n",
       "<style scoped>\n",
       "    .dataframe tbody tr th:only-of-type {\n",
       "        vertical-align: middle;\n",
       "    }\n",
       "\n",
       "    .dataframe tbody tr th {\n",
       "        vertical-align: top;\n",
       "    }\n",
       "\n",
       "    .dataframe thead th {\n",
       "        text-align: right;\n",
       "    }\n",
       "</style>\n",
       "<table border=\"1\" class=\"dataframe\">\n",
       "  <thead>\n",
       "    <tr style=\"text-align: right;\">\n",
       "      <th></th>\n",
       "      <th>NOME_BARRAGEM_MINERACAO</th>\n",
       "      <th>NOME_DO_EMPREENDEDOR</th>\n",
       "      <th>CPF_CNPJ</th>\n",
       "      <th>POSICIONAMENTO</th>\n",
       "      <th>UF</th>\n",
       "      <th>MUNICIPIO</th>\n",
       "      <th>MINERIO_PRINCIPAL</th>\n",
       "      <th>ALTURA_ATUAL_metros</th>\n",
       "      <th>VOLUME_ATUAL_m3</th>\n",
       "      <th>CATEGORIA_DE_RISCO</th>\n",
       "      <th>DANO_POTENCIAL_ASSOCIADO</th>\n",
       "      <th>CLASSE</th>\n",
       "      <th>INSERIDA_NA_PNSB</th>\n",
       "      <th>LATITUDE</th>\n",
       "      <th>LONGITUDE</th>\n",
       "    </tr>\n",
       "  </thead>\n",
       "  <tbody>\n",
       "    <tr>\n",
       "      <th>0</th>\n",
       "      <td>0-1</td>\n",
       "      <td>Mineração Taboca S.a.</td>\n",
       "      <td>34.019.992/0001-10</td>\n",
       "      <td>Sul do Equador</td>\n",
       "      <td>AM</td>\n",
       "      <td>PRESIDENTE FIGUEIREDO</td>\n",
       "      <td>Minério de Estanho Primário</td>\n",
       "      <td>22.00</td>\n",
       "      <td>27,700,000.00</td>\n",
       "      <td>Baixa</td>\n",
       "      <td>Média</td>\n",
       "      <td>C</td>\n",
       "      <td>Sim</td>\n",
       "      <td>0.733361</td>\n",
       "      <td>-60.138389</td>\n",
       "    </tr>\n",
       "    <tr>\n",
       "      <th>1</th>\n",
       "      <td>103 (Cruz)</td>\n",
       "      <td>Mineração Taboca S.a.</td>\n",
       "      <td>34.019.992/0001-10</td>\n",
       "      <td>Sul do Equador</td>\n",
       "      <td>AM</td>\n",
       "      <td>PRESIDENTE FIGUEIREDO</td>\n",
       "      <td>Minério de Estanho Primário</td>\n",
       "      <td>10.30</td>\n",
       "      <td>924,000.00</td>\n",
       "      <td>Baixa</td>\n",
       "      <td>Média</td>\n",
       "      <td>C</td>\n",
       "      <td>Sim</td>\n",
       "      <td>0.785722</td>\n",
       "      <td>-60.141917</td>\n",
       "    </tr>\n",
       "    <tr>\n",
       "      <th>2</th>\n",
       "      <td>111 (Índio)</td>\n",
       "      <td>Mineração Taboca S.a.</td>\n",
       "      <td>34.019.992/0001-10</td>\n",
       "      <td>Sul do Equador</td>\n",
       "      <td>AM</td>\n",
       "      <td>PRESIDENTE FIGUEIREDO</td>\n",
       "      <td>Minério de Estanho Primário</td>\n",
       "      <td>5.00</td>\n",
       "      <td>48,873.00</td>\n",
       "      <td>Baixa</td>\n",
       "      <td>Média</td>\n",
       "      <td>C</td>\n",
       "      <td>Sim</td>\n",
       "      <td>0.789667</td>\n",
       "      <td>-60.144278</td>\n",
       "    </tr>\n",
       "    <tr>\n",
       "      <th>3</th>\n",
       "      <td>158 (A-1)</td>\n",
       "      <td>Mineração Taboca S.a.</td>\n",
       "      <td>34.019.992/0001-10</td>\n",
       "      <td>Sul do Equador</td>\n",
       "      <td>AM</td>\n",
       "      <td>PRESIDENTE FIGUEIREDO</td>\n",
       "      <td>Minério de Estanho Primário</td>\n",
       "      <td>30.00</td>\n",
       "      <td>53,380,000.00</td>\n",
       "      <td>Baixa</td>\n",
       "      <td>Alta</td>\n",
       "      <td>B</td>\n",
       "      <td>Sim</td>\n",
       "      <td>0.738028</td>\n",
       "      <td>-60.078917</td>\n",
       "    </tr>\n",
       "    <tr>\n",
       "      <th>4</th>\n",
       "      <td>161 (A-2)</td>\n",
       "      <td>Mineração Taboca S.a.</td>\n",
       "      <td>34.019.992/0001-10</td>\n",
       "      <td>Sul do Equador</td>\n",
       "      <td>AM</td>\n",
       "      <td>PRESIDENTE FIGUEIREDO</td>\n",
       "      <td>Minério de Estanho Primário</td>\n",
       "      <td>22.00</td>\n",
       "      <td>1,018,054.00</td>\n",
       "      <td>Baixa</td>\n",
       "      <td>Média</td>\n",
       "      <td>C</td>\n",
       "      <td>Sim</td>\n",
       "      <td>0.732287</td>\n",
       "      <td>-60.068999</td>\n",
       "    </tr>\n",
       "  </tbody>\n",
       "</table>\n",
       "</div>"
      ],
      "text/plain": [
       "  NOME_BARRAGEM_MINERACAO   NOME_DO_EMPREENDEDOR            CPF_CNPJ  \\\n",
       "0                     0-1  Mineração Taboca S.a.  34.019.992/0001-10   \n",
       "1              103 (Cruz)  Mineração Taboca S.a.  34.019.992/0001-10   \n",
       "2             111 (Índio)  Mineração Taboca S.a.  34.019.992/0001-10   \n",
       "3               158 (A-1)  Mineração Taboca S.a.  34.019.992/0001-10   \n",
       "4               161 (A-2)  Mineração Taboca S.a.  34.019.992/0001-10   \n",
       "\n",
       "   POSICIONAMENTO  UF              MUNICIPIO            MINERIO_PRINCIPAL  \\\n",
       "0  Sul do Equador  AM  PRESIDENTE FIGUEIREDO  Minério de Estanho Primário   \n",
       "1  Sul do Equador  AM  PRESIDENTE FIGUEIREDO  Minério de Estanho Primário   \n",
       "2  Sul do Equador  AM  PRESIDENTE FIGUEIREDO  Minério de Estanho Primário   \n",
       "3  Sul do Equador  AM  PRESIDENTE FIGUEIREDO  Minério de Estanho Primário   \n",
       "4  Sul do Equador  AM  PRESIDENTE FIGUEIREDO  Minério de Estanho Primário   \n",
       "\n",
       "  ALTURA_ATUAL_metros VOLUME_ATUAL_m3 CATEGORIA_DE_RISCO  \\\n",
       "0               22.00   27,700,000.00              Baixa   \n",
       "1               10.30      924,000.00              Baixa   \n",
       "2                5.00       48,873.00              Baixa   \n",
       "3               30.00   53,380,000.00              Baixa   \n",
       "4               22.00    1,018,054.00              Baixa   \n",
       "\n",
       "  DANO_POTENCIAL_ASSOCIADO CLASSE INSERIDA_NA_PNSB  LATITUDE  LONGITUDE  \n",
       "0                    Média      C              Sim  0.733361 -60.138389  \n",
       "1                    Média      C              Sim  0.785722 -60.141917  \n",
       "2                    Média      C              Sim  0.789667 -60.144278  \n",
       "3                     Alta      B              Sim  0.738028 -60.078917  \n",
       "4                    Média      C              Sim  0.732287 -60.068999  "
      ]
     },
     "execution_count": 41,
     "metadata": {},
     "output_type": "execute_result"
    }
   ],
   "source": [
    "df.head()"
   ]
  },
  {
   "cell_type": "code",
   "execution_count": 42,
   "metadata": {},
   "outputs": [
    {
     "data": {
      "text/plain": [
       "NOME_BARRAGEM_MINERACAO      object\n",
       "NOME_DO_EMPREENDEDOR         object\n",
       "CPF_CNPJ                     object\n",
       "POSICIONAMENTO               object\n",
       "UF                           object\n",
       "MUNICIPIO                    object\n",
       "MINERIO_PRINCIPAL            object\n",
       "ALTURA_ATUAL_metros          object\n",
       "VOLUME_ATUAL_m3              object\n",
       "CATEGORIA_DE_RISCO           object\n",
       "DANO_POTENCIAL_ASSOCIADO     object\n",
       "CLASSE                       object\n",
       "INSERIDA_NA_PNSB             object\n",
       "LATITUDE                    float64\n",
       "LONGITUDE                   float64\n",
       "dtype: object"
      ]
     },
     "execution_count": 42,
     "metadata": {},
     "output_type": "execute_result"
    }
   ],
   "source": [
    "df.dtypes"
   ]
  },
  {
   "cell_type": "code",
   "execution_count": 43,
   "metadata": {},
   "outputs": [
    {
     "data": {
      "text/html": [
       "<div>\n",
       "<style scoped>\n",
       "    .dataframe tbody tr th:only-of-type {\n",
       "        vertical-align: middle;\n",
       "    }\n",
       "\n",
       "    .dataframe tbody tr th {\n",
       "        vertical-align: top;\n",
       "    }\n",
       "\n",
       "    .dataframe thead th {\n",
       "        text-align: right;\n",
       "    }\n",
       "</style>\n",
       "<table border=\"1\" class=\"dataframe\">\n",
       "  <thead>\n",
       "    <tr style=\"text-align: right;\">\n",
       "      <th></th>\n",
       "      <th>LATITUDE</th>\n",
       "      <th>LONGITUDE</th>\n",
       "    </tr>\n",
       "  </thead>\n",
       "  <tbody>\n",
       "    <tr>\n",
       "      <th>count</th>\n",
       "      <td>714.000000</td>\n",
       "      <td>714.000000</td>\n",
       "    </tr>\n",
       "    <tr>\n",
       "      <th>mean</th>\n",
       "      <td>-331.316069</td>\n",
       "      <td>-789.420205</td>\n",
       "    </tr>\n",
       "    <tr>\n",
       "      <th>std</th>\n",
       "      <td>2376.447783</td>\n",
       "      <td>5989.669580</td>\n",
       "    </tr>\n",
       "    <tr>\n",
       "      <th>min</th>\n",
       "      <td>-23662.000000</td>\n",
       "      <td>-63076.000000</td>\n",
       "    </tr>\n",
       "    <tr>\n",
       "      <th>25%</th>\n",
       "      <td>-20.280889</td>\n",
       "      <td>-51.676271</td>\n",
       "    </tr>\n",
       "    <tr>\n",
       "      <th>50%</th>\n",
       "      <td>-19.719208</td>\n",
       "      <td>-46.257750</td>\n",
       "    </tr>\n",
       "    <tr>\n",
       "      <th>75%</th>\n",
       "      <td>-11.260149</td>\n",
       "      <td>-43.847905</td>\n",
       "    </tr>\n",
       "    <tr>\n",
       "      <th>max</th>\n",
       "      <td>1.714167</td>\n",
       "      <td>-37.029833</td>\n",
       "    </tr>\n",
       "  </tbody>\n",
       "</table>\n",
       "</div>"
      ],
      "text/plain": [
       "           LATITUDE     LONGITUDE\n",
       "count    714.000000    714.000000\n",
       "mean    -331.316069   -789.420205\n",
       "std     2376.447783   5989.669580\n",
       "min   -23662.000000 -63076.000000\n",
       "25%      -20.280889    -51.676271\n",
       "50%      -19.719208    -46.257750\n",
       "75%      -11.260149    -43.847905\n",
       "max        1.714167    -37.029833"
      ]
     },
     "execution_count": 43,
     "metadata": {},
     "output_type": "execute_result"
    }
   ],
   "source": [
    "df.describe()"
   ]
  },
  {
   "cell_type": "code",
   "execution_count": 44,
   "metadata": {},
   "outputs": [
    {
     "data": {
      "text/plain": [
       "NOME_BARRAGEM_MINERACAO     714\n",
       "NOME_DO_EMPREENDEDOR        714\n",
       "CPF_CNPJ                    714\n",
       "POSICIONAMENTO              714\n",
       "UF                          714\n",
       "MUNICIPIO                   714\n",
       "MINERIO_PRINCIPAL           714\n",
       "ALTURA_ATUAL_metros         714\n",
       "VOLUME_ATUAL_m3             714\n",
       "CATEGORIA_DE_RISCO          390\n",
       "DANO_POTENCIAL_ASSOCIADO    390\n",
       "CLASSE                      390\n",
       "INSERIDA_NA_PNSB            714\n",
       "LATITUDE                    714\n",
       "LONGITUDE                   714\n",
       "dtype: int64"
      ]
     },
     "execution_count": 44,
     "metadata": {},
     "output_type": "execute_result"
    }
   ],
   "source": [
    "df.count()"
   ]
  },
  {
   "cell_type": "code",
   "execution_count": 45,
   "metadata": {},
   "outputs": [
    {
     "data": {
      "text/plain": [
       "Baixa    332\n",
       "Média     55\n",
       "Alta       3\n",
       "Name: CATEGORIA_DE_RISCO, dtype: int64"
      ]
     },
     "execution_count": 45,
     "metadata": {},
     "output_type": "execute_result"
    }
   ],
   "source": [
    "df['CATEGORIA_DE_RISCO'].value_counts()"
   ]
  },
  {
   "cell_type": "code",
   "execution_count": 60,
   "metadata": {},
   "outputs": [
    {
     "data": {
      "text/plain": [
       "<matplotlib.axes._subplots.AxesSubplot at 0x1bf04e46710>"
      ]
     },
     "execution_count": 60,
     "metadata": {},
     "output_type": "execute_result"
    },
    {
     "data": {
      "image/png": "[encoded data removed]",
      "text/plain": [
       "<Figure size 432x288 with 1 Axes>"
      ]
     },
     "metadata": {
      "needs_background": "light"
     },
     "output_type": "display_data"
    }
   ],
   "source": [
    "df['CATEGORIA_DE_RISCO'].value_counts().plot.bar()"
   ]
  },
  {
   "cell_type": "code",
   "execution_count": 65,
   "metadata": {},
   "outputs": [
    {
     "name": "stderr",
     "output_type": "stream",
     "text": [
      "C:\\Users\\Rise\\Anaconda3\\lib\\site-packages\\scipy\\stats\\stats.py:1713: FutureWarning: Using a non-tuple sequence for multidimensional indexing is deprecated; use `arr[tuple(seq)]` instead of `arr[seq]`. In the future this will be interpreted as an array index, `arr[np.array(seq)]`, which will result either in an error or a different result.\n",
      "  return np.add.reduce(sorted[indexer] * weights, axis=axis) / sumval\n"
     ]
    },
    {
     "data": {
      "text/plain": [
       "<seaborn.axisgrid.JointGrid at 0x1bf05385b70>"
      ]
     },
     "execution_count": 65,
     "metadata": {},
     "output_type": "execute_result"
    },
    {
     "data": {
      "image/png": "[encoded data removed]",
      "text/plain": [
       "<Figure size 432x432 with 3 Axes>"
      ]
     },
     "metadata": {
      "needs_background": "light"
     },
     "output_type": "display_data"
    }
   ],
   "source": [
    "sns.jointplot(x='LATITUDE', y='LONGITUDE', data=df , kind='hex')"
   ]
  },
  {
   "cell_type": "code",
   "execution_count": null,
   "metadata": {},
   "outputs": [],
   "source": []
  }
 ],
 "metadata": {
  "kernelspec": {
   "display_name": "Python 3",
   "language": "python",
   "name": "python3"
  },
  "language_info": {
   "codemirror_mode": {
    "name": "ipython",
    "version": 3
   },
   "file_extension": ".py",
   "mimetype": "text/x-python",
   "name": "python",
   "nbconvert_exporter": "python",
   "pygments_lexer": "ipython3",
   "version": "3.7.0"
  }
 },
 "nbformat": 4,
 "nbformat_minor": 2
}
